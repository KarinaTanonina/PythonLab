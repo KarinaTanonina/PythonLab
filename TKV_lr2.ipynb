{
  "metadata": {
    "language_info": {
      "codemirror_mode": {
        "name": "python",
        "version": 3
      },
      "file_extension": ".py",
      "mimetype": "text/x-python",
      "name": "python",
      "nbconvert_exporter": "python",
      "pygments_lexer": "ipython3",
      "version": "3.8"
    },
    "kernelspec": {
      "name": "python",
      "display_name": "Pyolite",
      "language": "python"
    }
  },
  "nbformat_minor": 4,
  "nbformat": 4,
  "cells": [
    {
      "cell_type": "markdown",
      "source": "# Лабораторная работы №2\n## Выполнила студентка группы БСТ2003 Танонина Карина Вадимовна\n### Задание №1\n\nРеализовать методы поиска в соответствии с заданием. Организовать генерацию начального набора случайных данных. Для всех вариантов добавить реализацию добавления, поиска и удаления элементов.",
      "metadata": {}
    },
    {
      "cell_type": "code",
      "source": "from random import randint\nimport time\n\n#создание исходного массива\nn = int(input(\"Введите количество элементов массива: \"))\nif n == \"\":\n    n = 50\nelse:\n    n = int(n)\nmin_limit = input(\"Введите min: \")\nmax_limit = input(\"Введите max: \")\nif min_limit == \"\" and max_limit == \"\":\n    min_limit = -250\n    max_limit = 1013\nelse:\n    min_limit = int(min_limit)\n    max_limit = int(max_limit)\narray = [randint(int(min_limit), int(max_limit)) for i in range(int(n))]\nprint(\"Исходный массив:\")\nprint(array)",
      "metadata": {},
      "execution_count": null,
      "outputs": []
    },
    {
      "cell_type": "markdown",
      "source": "Бинарный поиск",
      "metadata": {}
    },
    {
      "cell_type": "code",
      "source": "def binary(array, item):\n    left = 0\n    center = len(array) // 2\n    right = len(array) - 1\n    while array[center] != item and left <= right:\n        if item > array[center]:\n            left = center + 1\n        else:\n            right = center - 1\n        center = (left + right) // 2\n    if left > right:\n        return -1\n    else:\n        return center",
      "metadata": {},
      "execution_count": null,
      "outputs": []
    },
    {
      "cell_type": "markdown",
      "source": "Интерполяционный поиск",
      "metadata": {}
    },
    {
      "cell_type": "code",
      "source": "def interpolation(array, item):\n    left = 0\n    right = (len(array) - 1)\n    while left <= right and item >= array[left] and item <= array[right]:\n        index = left + int(((float(right - left) / (array[right] - array[left])) * (item - array[left])))\n        if array[index] == item:\n            return index\n        if array[index] < item:\n            left = index + 1;\n        else:\n            right = index - 1;\n    return -1",
      "metadata": {},
      "execution_count": null,
      "outputs": []
    },
    {
      "cell_type": "markdown",
      "source": "Фибоначчиев поиск",
      "metadata": {}
    },
    {
      "cell_type": "code",
      "source": "def FibonacciSearch(array, item):\n    fib2 = 0\n    fib1 = 1\n    fibM = fib1 + fib2\n    while (fibM < len(array)):\n        fib2 = fib1\n        fib1 = fibM\n        fibM = fib1 + fib2\n    index = -1;\n    while (fibM > 1):\n        i = min(index + fib2, (len(array)-1))\n        if (array[i] < item):\n            fibM = fib1\n            fib1 = fib2\n            fib2 = fibM - fib1\n            index = i\n        elif (array[i] > item):\n            fibM = fib2\n            fib1 = fib1 - fib2\n            fib2 = fibM - fib1\n        else:\n            return i\n    if(fib1 and index < (len(array)-1) and array[index+1] == item):\n        return index+1;\n    return -1",
      "metadata": {},
      "execution_count": null,
      "outputs": []
    },
    {
      "cell_type": "markdown",
      "source": "Бинарное дерево",
      "metadata": {}
    },
    {
      "cell_type": "code",
      "source": "class Node:\n    def __init__(self, data):\n        self.left = None\n        self.right = None\n        self.data = data\n\n    def insert(self, data):\n        if self.data:\n            if data < self.data:\n                if self.left is None:\n                    self.left = Node(data)\n                else:\n                    self.left.insert(data)\n            elif data > self.data:\n                if self.right is None:\n                    self.right = Node(data)\n                else:\n                    self.right.insert(data)\n        else:\n            self.data = data\n\n    def findval(self, lkpval):\n        if lkpval < self.data:\n            if self.left is None:\n                print(lkpval, \"Элемент не найден\")\n                return False\n            return self.left.findval(lkpval)\n        elif lkpval > self.data:\n            if self.right is None:\n                print(lkpval, \"Элемент не найден\")\n                return False\n            return self.right.findval(lkpval)\n        else:\n            print(self.data, \"Элемент найден\")\n            return True\n\n    def PrintTree(self):\n        if self.left:\n            self.left.PrintTree()\n        print(self.data),\n        if self.right:\n            self.right.PrintTree()\n\ndef make_a_tree(arr):\n    root = Node(arr[0])\n    for i in arr[1::]:\n        root.insert(i)\n    return root",
      "metadata": {
        "trusted": true
      },
      "execution_count": 1,
      "outputs": []
    },
    {
      "cell_type": "code",
      "source": "#вставка элемента в массив\ndef Insert(array):\n    numb = int(input(\"Введите число для вставки: \"))\n    ind = int(input(\"Введите индекс вставки: \"))\n    array.insert(ind, numb)\n    print(array)\n\n#удаление элемента из массива\ndef Delete(array):\n    ind = int(input(\"Введите индекс элемента для удаления: \"))\n    del array[ind]\n    print(array)\n\narray.sort()\nprint(\"Отсортированный массив: \")\nprint(array)\nprint()\n\n#бинарный поиск\nprint(\"Бинарный поиск\")\nprint(\"Введите элемент, который хотите найти: \")\nfind = int(input())\nstart = time.time()\nsel = binary(array, find)\nprint(\"Время бинарного поиска: \", (time.time() - start)*1000000)\nif sel == -1:\n    print(\"Элемент в массиве не найден\")\nelse:\n    print(\"Индекс элемента: \", sel)\nInsert(array)\nDelete(array)\nprint()\n\n#интерполяционный поиск\nprint(\"Интерполяционный поиск\")\nprint(\"Введите элемент, который хотите найти: \")\nfind = int(input())\nstart = time.time()\nsel = interpolation(array, find)\nprint(\"Время интерполяционного поиска: \", (time.time() - start)*1000000)\nif sel == -1:\n    print(\"Элемент в массиве не найден\")\nelse:\n    print(\"Индекс элемента: \", sel)\nInsert(array)\nDelete(array)\nprint()\n\n#Бинарное деререво\nprint(\"Бинарное деререво\")\nroot = make_a_tree(array)\nnum = int(input(\"Введите элемент, который хотите найти: \"))\nstart = time.time()\nresult = root.findval(num)\nprint(\"Время бинарного дерева: \", (time.time() - start)*1000000)\nroot.insert(num)\nroot.PrintTree()\nnum = int(input(\"Введите элемент, который хотите удалить: \"))\narray.remove(num)\nroot = make_a_tree(array)\nroot.PrintTree()",
      "metadata": {},
      "execution_count": null,
      "outputs": []
    },
    {
      "cell_type": "markdown",
      "source": "### Задание №2",
      "metadata": {}
    },
    {
      "cell_type": "code",
      "source": "import random\n\n#генерация случайного массива\ndef generate_array(length = 50):\n    array = []\n    while len(array) < length:\n        array.append(random.randint(-250, 1013))\n    return array\n\n#для хэша\nclass rehash:\n    def __init__(self, value1):\n        self.value1 = value1\n        self.hash = int((((value1 % rehash.MAX_HASH_TABLE) * 331) & 127) % rehash.MAX_HASH_TABLE)\n        self.hashh = int(value1)\n\n    MAX_HASH_TABLE = 8",
      "metadata": {},
      "execution_count": null,
      "outputs": []
    },
    {
      "cell_type": "markdown",
      "source": "Простое рехэширование",
      "metadata": {}
    },
    {
      "cell_type": "code",
      "source": "class SimpleRehashTable:\n\n    def __init__(self, length):\n        self.table = [None] * length\n\n    def add_el(self, element):\n        original_hash = element.hash\n        if self.table[original_hash] is None:\n            self.table[original_hash] = element\n            print(\"объект со значением %i имеет хэш: %i (рехеширование не требовалось)\"\n                  % (self.table[original_hash].value1, element.hash))\n            return\n\n        new_hash = original_hash + 1\n        while new_hash != original_hash:\n            if new_hash >= len(self.table):\n                new_hash = 0\n                continue\n            if self.table[new_hash] is None:\n                element.hash = new_hash\n                self.table[new_hash] = element\n                print(\"объект со значением %i имеет хэш: %i (рехешировано. коллизия была в хеше: %i)\"\n                      % (self.table[new_hash].value1, element.hash, original_hash))\n                return\n            new_hash += 1\n        print(\"Таблица заполнена\")\n        return\n\nsimple_re = SimpleRehashTable(rehash.MAX_HASH_TABLE)\nfor i in range(len(simple_re.table) + 2):\n    simple_re.add_el(rehash(random.randint(0, 8)))",
      "metadata": {},
      "execution_count": null,
      "outputs": []
    },
    {
      "cell_type": "markdown",
      "source": "Случайное рехеширование",
      "metadata": {}
    },
    {
      "cell_type": "code",
      "source": "class RandomRehashTable:\n\n    def __init__(self, length):\n        self.table = [None] * length\n\n    def add_el(self, element):\n        original_hash = element.hash\n        if self.table[original_hash] is None:\n            self.table[original_hash] = element\n            print(\"объект со значением %i имеет хэш: %i (рехеширование не требовалось)\"\n                  % (self.table[original_hash].value1, original_hash))\n            return\n\n        table_len = len(self.table)\n        r = 1\n        for ii in range(10):  # range(число попыток определить новый хеш)\n            r *= 5\n            r = r % (4 * table_len)\n            new_hash = r // 4\n            if self.table[new_hash] is None:\n                element.hash = new_hash\n                self.table[new_hash] = element\n                print(\"объект со значением %i имеет хэш: %i (рехешировано. коллизия была в хеше: %i)\"\n                      % (self.table[new_hash].value1, element.hash, original_hash))\n                return\n        print(\"Не удалось найти свободный хеш в таблице!\")\n        return\n\nrandom_re = RandomRehashTable(rehash.MAX_HASH_TABLE)\nfor i in range(len(random_re.table) + 2):\n    random_re.add_el(rehash(random.randint(0, 9)))",
      "metadata": {},
      "execution_count": null,
      "outputs": []
    },
    {
      "cell_type": "markdown",
      "source": "Метод цепочек",
      "metadata": {}
    },
    {
      "cell_type": "code",
      "source": "class ChainRehashTable:\n\n    def __init__(self, length):\n        self.table = [None] * length\n    def add_el(self, element):\n\n        original_hash = element.hashh\n        if self.table[original_hash] is None:\n            self.table[original_hash] = [element]\n            return\n        else:\n            self.table[original_hash].append(element)\n            return\n\nchain_re = ChainRehashTable(rehash.MAX_HASH_TABLE)\nfor i in range(len(chain_re.table)):\n    chain_re.add_el(rehash(random.randint(0, 7)))\nhash = 0\n\nfor x in chain_re.table:\n    print(\"[hash: %i]\" % hash, end=\" \")\n    if x is None:\n        print(\"нет значений\")\n    else:\n        for y in x:\n            print(y.value1, end=\" \")\n        print(\"\")\n    hash += 1",
      "metadata": {},
      "execution_count": null,
      "outputs": []
    },
    {
      "cell_type": "markdown",
      "source": "### Задание №3\n\nРасставить на стандартной 64-клеточной шахматной доске 8 ферзей так, чтобы ни один из них не находился под боем другого». Подразумевается, что ферзь бьёт все клетки, расположенные по вертикалям, горизонталям и обеим диагоналям\nНаписать программу,  которая находит хотя бы один способ решения задач.",
      "metadata": {}
    },
    {
      "cell_type": "code",
      "source": "def checkField(i,j,Queens):\n    r=i\n    c=j\n    for k in range(i):\n        if j == Queens[k]:\n            return False\n    while i>=0 and j>=0:\n        if Queens[i]==j:\n            return False\n        i-=1\n        j-=1\n    while r>=0 and c<=7:\n        if Queens[r]==c:\n            return False\n        r-=1\n        c+=1    \n    return True\n\ndef findQueens(Queens=[0]*8, i=0):\n    if i ==8:\n        arr = [[0 for i in range(8)] for j in range(8)]\n        for i in range(8):\n            for j in range(8):\n                arr[i][Queens[i]] = 1\n        print(Queens)\n        return arr\n    else:\n        for j in range(8):\n            if checkField(i,j,Queens):\n                Queens[i]=j\n                chessBoard = findQueens(Queens,i+1)\n                if chessBoard:\n                    return chessBoard\nfindQueens()",
      "metadata": {},
      "execution_count": null,
      "outputs": []
    }
  ]
}
