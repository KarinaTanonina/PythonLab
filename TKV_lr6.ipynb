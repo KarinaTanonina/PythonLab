{
  "nbformat": 4,
  "nbformat_minor": 0,
  "metadata": {
    "colab": {
      "name": "Untitled3.ipynb",
      "provenance": [],
      "collapsed_sections": []
    },
    "kernelspec": {
      "name": "python3",
      "display_name": "Python 3"
    },
    "language_info": {
      "name": "python"
    }
  },
  "cells": [
    {
      "cell_type": "markdown",
      "source": [
        "# Лабораторная работа №6\n",
        "## Выполнила студентка группы БСТ2003 Танонина Карина Вадимовна\n",
        "\n",
        "Задание\n",
        "Реализовать алгоритм поиска кратчайшего расстояния между двумя вершинами ориентированного взвешенного графа в соответствии с вариантом.\n",
        "\n",
        "Предусмотреть задание графа в виде матрицы смежности/инцидентности, читаемой из файла, либо графически с помощью пользовательского интерфейса.\n",
        "\n",
        "Разработать графический интерфейс пользователя с визуализацией графа и отображением кратчайшего расстояния между задаваемыми пользователем вершинами.\n",
        "\n",
        "По результатам работы проанализировать временную сложность работы заданного алгоритма в зависимости от числа узлов и ребер графа. Данные представить в виде таблицы.\n",
        "\n",
        "Вариант 13: Алгоритм Флойда-Уоршелла"
      ],
      "metadata": {
        "id": "QKvA6tRlIBGG"
      }
    },
    {
      "cell_type": "markdown",
      "source": [
        "main.py :"
      ],
      "metadata": {
        "id": "u1vYndKVIUo2"
      }
    },
    {
      "cell_type": "code",
      "execution_count": null,
      "metadata": {
        "id": "_AyJExy-H_tV"
      },
      "outputs": [],
      "source": [
        "import time\n",
        "import networkx as nx\n",
        "import matplotlib.pyplot as plt\n",
        "import floyd as flwr\n",
        "import convert as conv\n",
        "\n",
        "with open('6.txt', 'r') as inputs:\n",
        "    global graph\n",
        "    graph = []\n",
        "\n",
        "    for line in inputs:\n",
        "        graph.append(line[:-1].split(', '))\n",
        "\n",
        "G = nx.DiGraph()\n",
        "G.add_weighted_edges_from(conv.convert(graph))\n",
        "\n",
        "pos = nx.planar_layout(G)\n",
        "nx.draw(G, with_labels='True', pos=pos)\n",
        "nx.draw_networkx_edge_labels(G, pos, edge_labels=nx.get_edge_attributes(G, 'weight'))\n",
        "\n",
        "start = time.time()\n",
        "way = flwr.flwr(graph, 4, 5)\n",
        "print(\"Время: \", (time.time() - start))\n",
        "\n",
        "print(way)\n",
        "way = [(way[i], way[i+1]) for i in range(len(way)-1)]\n",
        "nx.draw_networkx_edges(G, pos=pos, edgelist=way, edge_color='green')\n",
        "nx.draw_networkx_edge_labels(G, pos, edge_labels=nx.get_edge_attributes(G, 'weight'))\n",
        "\n",
        "plt.show()"
      ]
    },
    {
      "cell_type": "markdown",
      "source": [
        "convert.py :"
      ],
      "metadata": {
        "id": "4VL6mRz6Jpoo"
      }
    },
    {
      "cell_type": "code",
      "source": [
        "def convert(matrix):\n",
        "    result = [(i, j, int(matrix[i][j]))\n",
        "                   for j in range(len(matrix))\n",
        "                   for i in range(len(matrix))\n",
        "                   if matrix[i][j] != 'math.inf']\n",
        "\n",
        "    return result"
      ],
      "metadata": {
        "id": "hHWApwO1JsHR"
      },
      "execution_count": null,
      "outputs": []
    },
    {
      "cell_type": "markdown",
      "source": [
        "floyd.py :"
      ],
      "metadata": {
        "id": "9bLM0BylJuez"
      }
    },
    {
      "cell_type": "code",
      "source": [
        "import math\n",
        "\n",
        "def flwr(matrix, start, finish):\n",
        "    mtr = [[int(matrix[i][j]) if matrix[i][j] != 'math.inf' else math.inf\n",
        "          for j in range(len(matrix))] for i in range(len(matrix))]\n",
        "\n",
        "    def WAY(peak, start, finish):\n",
        "        way = [start]\n",
        "        while start != finish:\n",
        "            start = peak[start][finish]\n",
        "            way = [start] + way\n",
        "\n",
        "        return way\n",
        "\n",
        "    vol = len(mtr)\n",
        "    peak = [[v for v in range(vol)] for u in range(vol)]\n",
        "    for k in range(vol):\n",
        "        for i in range(vol):\n",
        "            for j in range(vol):\n",
        "                d = mtr[i][k] + mtr[k][j]\n",
        "                if mtr[i][j] > d:\n",
        "                    mtr[i][j] = d\n",
        "                    peak[i][j] = k\n",
        "\n",
        "    return WAY(peak, finish, start)"
      ],
      "metadata": {
        "id": "FU8JJOiiJ0nS"
      },
      "execution_count": null,
      "outputs": []
    }
  ]
}