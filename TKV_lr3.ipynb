{
  "metadata": {
    "language_info": {
      "codemirror_mode": {
        "name": "python",
        "version": 3
      },
      "file_extension": ".py",
      "mimetype": "text/x-python",
      "name": "python",
      "nbconvert_exporter": "python",
      "pygments_lexer": "ipython3",
      "version": "3.8"
    },
    "kernelspec": {
      "name": "python",
      "display_name": "Pyolite",
      "language": "python"
    }
  },
  "nbformat_minor": 4,
  "nbformat": 4,
  "cells": [
    {
      "cell_type": "markdown",
      "source": "# Лабораторная работы №3\n## Выполнила студентка группы БСТ2003 Танонина Карина Вадимовна\n### Задание №1\n\nРеализовать методы поиска подстроки в строке. Добавить возможность ввода строки и подстроки с клавиатуры. Предусмотреть возможность существования пробела. Реализовать возможность выбора опции чувствительности или нечувствительности к регистру. Оценить время работы каждого алгоритма поиска и сравнить его со временем работы стандартной функции поиска, используемой в выбранном языке программирования.",
      "metadata": {}
    },
    {
      "cell_type": "markdown",
      "source": "Алгоритм Кнута-Морриса-Пратта",
      "metadata": {}
    },
    {
      "cell_type": "code",
      "source": "import time\ndef KMP(string, substr):\n    shifts = [0] * len(substr)\n    j = 0\n    i = 1\n    while i < len(substr):\n        if substr[j] == substr[i]:\n            shifts[i] = j + 1\n            i += 1\n            j += 1\n        else:\n            if j == 0:\n                shifts[i] = 0;\n                i += 1\n            else:\n                j = shifts[j - 1]\n    print(shifts)\n\n    n = len(string)\n    m = len(substr)\n\n    i = 0\n    j = 0\n    while i < n:\n        if string[i] == substr[j]:\n            i += 1\n            j += 1\n            if j == m:\n                print(f\"Искомая строка начинается с индекса {i - (len(substr))}\")\n                break\n        else:\n            if j > 0:\n                j = shifts[j - 1]\n            else:\n                i += 1\n    if i == n and j != m:\n        print(\"Строка не найдена\")\n\nprint(\"Введите строку, в которой будем искать: \")\nstring = str(input())\nprint(\"Введите строку, которую будем искать: \")\nsubstr = str(input())\nprint(\"Чуствитвительность к регистру: \")\nans = str(input().lower())\nif ans == \"нет\" :\n    start = time.time()\n    KMP(string, substr)\n    print(\"Время: \", (time.time() - start))\nelif ans == \"да\":\n    start = time.time()\n    KMP(string, substr)\n    print(\"Время: \", (time.time() - start))\nelse:\n    print(\"Ошибка: некорректный ответ\")",
      "metadata": {},
      "execution_count": null,
      "outputs": []
    },
    {
      "cell_type": "markdown",
      "source": "Упрощенный алгоритм Бойера-Мура",
      "metadata": {}
    },
    {
      "cell_type": "code",
      "source": "import time\ndef BM(string, substr):\n    S = set()\n    M = len(substr)\n    d = {}\n\n    for i in range(M - 2, -1, -1):\n        if substr[i] not in S:\n            d[substr[i]] = M - i - 1\n            S.add(substr[i])\n\n    if substr[M - 1] not in S:\n        d[substr[M - 1]] = M\n\n    d['*'] = M\n    print(d)\n\n    N = len(string)\n\n    if N >= M:\n        i = M - 1\n        while (i < N):\n            k = 0\n            j = 0\n            flBreak = False\n            for j in range(M - 1, -1, -1):\n                if string[i - k] != substr[j]:\n                    if j == M - 1:\n                        off = d[string[i]] if d.get(string[i], False) else d['*']\n                    else:\n                        off = d[substr[j]]\n\n                    i += off\n                    flBreak = True\n                    break\n\n                k += 1\n\n            if not flBreak:\n                print(f\"образ найден по индексу: {i - (M - 1)}\")\n                break\n        else:\n            print(\"образ не найден\")\n    else:\n        print(\"образ не найден\")\n\n\nprint(\"Введите строку, в которой будем искать: \")\nstring = str(input())\nprint(\"Введите строку, которую будем искать: \")\nsubstr = str(input())\nprint(\"Чуствитвительность к регистру: \")\nans = str(input().lower())\nif ans == \"нет\" :\n    start = time.time()\n    BM(string, substr)\n    print(\"Время: \", (time.time() - start))\nelif ans == \"да\":\n    start = time.time()\n    BM(string, substr)\n    print(\"Время: \", (time.time() - start))\nelse:\n    print(\"Введите корректный ответ\")",
      "metadata": {},
      "execution_count": null,
      "outputs": []
    },
    {
      "cell_type": "markdown",
      "source": "### Задание №2\n\nНаписать программу, определяющую, является ли данное расположение «решаемым», то есть можно ли из него за конечное число шагов перейти к правильному. Если это возможно, то необходимо найти хотя бы одно решение - последовательность движений, после которой числа будут расположены в правильном порядке.\n\nВходные данные: массив чисел, представляющий собой расстановку в\nПорядке «слева направо, сверху вниз». Число 0 обозначает пустое поле. Например, массив [1, 2, 3, 4, 5, 6, 7, 8, 9, 10, 11, 12, 13, 14, 15, 0] представляет собой «решенную» позицию элементов.\n\nВыходные данные: если решения нет, то функция должна вернуть\nПустой массив []. Если решение есть, то необходимо представить решение — для каждого шага записывается номер передвигаемого на данном шаге элемента.",
      "metadata": {}
    },
    {
      "cell_type": "code",
      "source": "import collections\nfrom queue import PriorityQueue\nrevprint = collections.deque()\nclass Position:\n    def __init__(self, position, start_distance,finish_distance):\n        self.position = position\n        self.start_distance = start_distance\n        self.finish_distance = finish_distance\n\n    def __str__(self):\n        return '\\n'.join((N*'{:3}').format(*[i%(N*N) for i in self.position[i:]]) for i in range(0, N*N, N))\n\n    def __lt__(self, other):\n        return self.start_distance+self.finish_distance < other.start_distance+other.finish_distance\nN = 4\n\ndef shifts(position):\n    zeroPosition = position.index(0)\n    i, j = divmod(zeroPosition, N)\n    displacement = []\n    if i > 0: displacement.append(-N)\n    if i < N - 1: displacement.append(N)\n    if j > 0: displacement.append(-1)\n    if j < N - 1: displacement.append(1)\n    for offset in displacement:\n        swap = zeroPosition + offset\n        yield tuple(position[swap]\n        if x==zeroPosition\n        else position[zeroPosition]\n        if x==swap\n        else position[x]\n        for x in range(N*N))\n\ndef parityOfPairs(state):\n    countOfPairs = 0\n    for i in range(len(state)-1):\n        if state[i] > state[i+1]:\n            countOfPairs +=1\n    return countOfPairs % 2\ndef fifteenGame(startState):\n    terminalState = (1, 2, 3, 4, 5, 6, 7, 8, 9, 10, 11, 12, 13, 14, 15, 0)\n    if parityOfPairs(startState)==0:\n        print(\"Нет решений\")\n    else:\n        startState= tuple(startState)\n        p = Position(startState, 0,0)\n\n        fieldStates= PriorityQueue()\n        fieldStates.put(p)\n        closePoints = set([p])\n        parents = {p.position: None}\n\n        while p.position != terminalState:\n            p =fieldStates.get()\n\n            for k in shifts(p.position):\n                count= 0\n                if k not in closePoints:\n                    for m in range(len(k)):\n                        if k[m] != terminalState[m]:\n                            count+=1\n                    fieldStates.put(Position(k, p.start_distance +1,p.finish_distance+count))\n                    parents[k] = p\n                    closePoints.add(k)\n\n        path = []\n        x = p\n        previous = p\n        while p.position != startState:\n            p = parents[p.position]\n            number = p.position[previous.position.index(0)]\n            path.append(number)\n            previous = p\n            revprint.append(p)\n        path.reverse()\n    if parityOfPairs(startState)!=0:\n        for reverse_print in range(len(path)):\n            print(f\"\\n{revprint.pop()}\")\n        print(f\"\\n{x}\\n\\n{path}\\nЧисло шагов: {len(path)}\")\n\nstartState = [1,2,3,4,5,6,7,8,9,10,11,12,0,13,14,15]\nfifteenGame(startState)",
      "metadata": {},
      "execution_count": null,
      "outputs": []
    }
  ]
}