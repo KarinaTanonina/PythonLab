{
  "metadata": {
    "language_info": {
      "codemirror_mode": {
        "name": "python",
        "version": 3
      },
      "file_extension": ".py",
      "mimetype": "text/x-python",
      "name": "python",
      "nbconvert_exporter": "python",
      "pygments_lexer": "ipython3",
      "version": "3.8"
    },
    "kernelspec": {
      "name": "python",
      "display_name": "Pyolite",
      "language": "python"
    }
  },
  "nbformat_minor": 4,
  "nbformat": 4,
  "cells": [
    {
      "cell_type": "markdown",
      "source": "# Лабораторная работы №2\n## Выполнила студентка группы БСТ2003 Танонина Карина Вадимовна\n### Задание №1",
      "metadata": {}
    },
    {
      "cell_type": "code",
      "source": "from random import randint\nimport time\n\n#создание исходного массива\nn = int(input(\"Введите количество элементов массива: \"))\nif n == \"\":\n    n = 50\nelse:\n    n = int(n)\nmin_limit = input(\"Введите min: \")\nmax_limit = input(\"Введите max: \")\nif min_limit == \"\" and max_limit == \"\":\n    min_limit = -250\n    max_limit = 1013\nelse:\n    min_limit = int(min_limit)\n    max_limit = int(max_limit)\narray = [randint(int(min_limit), int(max_limit)) for i in range(int(n))]\nprint(\"Исходный массив:\")\nprint(array)",
      "metadata": {},
      "execution_count": null,
      "outputs": []
    },
    {
      "cell_type": "markdown",
      "source": "Бинарный поиск",
      "metadata": {}
    },
    {
      "cell_type": "code",
      "source": "def binary(array, item):\n    left = 0\n    center = len(array) // 2\n    right = len(array) - 1\n    while array[center] != item and left <= right:\n        if item > array[center]:\n            left = center + 1\n        else:\n            right = center - 1\n        center = (left + right) // 2\n    if left > right:\n        return -1\n    else:\n        return center",
      "metadata": {},
      "execution_count": null,
      "outputs": []
    },
    {
      "cell_type": "markdown",
      "source": "Интерполяционный поиск",
      "metadata": {}
    },
    {
      "cell_type": "code",
      "source": "def interpolation(array, item):\n    left = 0\n    right = (len(array) - 1)\n    while left <= right and item >= array[left] and item <= array[right]:\n        index = left + int(((float(right - left) / (array[right] - array[left])) * (item - array[left])))\n        if array[index] == item:\n            return index\n        if array[index] < item:\n            left = index + 1;\n        else:\n            right = index - 1;\n    return -1",
      "metadata": {},
      "execution_count": null,
      "outputs": []
    },
    {
      "cell_type": "markdown",
      "source": "Фибоначчиев поиск",
      "metadata": {}
    },
    {
      "cell_type": "code",
      "source": "def FibonacciSearch(array, item):\n    fib2 = 0\n    fib1 = 1\n    fibM = fib1 + fib2\n    while (fibM < len(array)):\n        fib2 = fib1\n        fib1 = fibM\n        fibM = fib1 + fib2\n    index = -1;\n    while (fibM > 1):\n        i = min(index + fib2, (len(array)-1))\n        if (array[i] < item):\n            fibM = fib1\n            fib1 = fib2\n            fib2 = fibM - fib1\n            index = i\n        elif (array[i] > item):\n            fibM = fib2\n            fib1 = fib1 - fib2\n            fib2 = fibM - fib1\n        else:\n            return i\n    if(fib1 and index < (len(array)-1) and array[index+1] == item):\n        return index+1;\n    return -1",
      "metadata": {},
      "execution_count": null,
      "outputs": []
    },
    {
      "cell_type": "markdown",
      "source": "Бинарное дерево",
      "metadata": {}
    },
    {
      "cell_type": "code",
      "source": "",
      "metadata": {},
      "execution_count": null,
      "outputs": []
    }
  ]
}