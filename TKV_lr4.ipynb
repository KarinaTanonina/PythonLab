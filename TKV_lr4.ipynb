{
  "nbformat": 4,
  "nbformat_minor": 0,
  "metadata": {
    "colab": {
      "name": "Untitled1.ipynb",
      "provenance": [],
      "collapsed_sections": []
    },
    "kernelspec": {
      "name": "python3",
      "display_name": "Python 3"
    },
    "language_info": {
      "name": "python"
    }
  },
  "cells": [
    {
      "cell_type": "markdown",
      "source": [
        "# Лабораторная работа №4 \n",
        "## Выполнила студентка группы БСТ2003 Танонина Карина Вадимовна\n",
        "\n",
        "Реализовать следующие структуры данных:\n",
        "\n",
        "● Стек (stack):\n",
        "Операции для стека: инициализация, проверка на пустоту, добавление нового элемента в начало, извлечение элемента из начала;\n",
        "\n",
        "● Дек (двусторонняя очередь, deque):\n",
        "Операции для дека: инициализация, проверка на пустоту, добавление нового элемента в начало, добавление нового элемента в конец, извлечение элемента из начала, извлечение элемента из конца.\n",
        "\n",
        "Разработать программу обработки данных, содержащихся в заранее подготовленном txt-файле, в соответствии с заданиями, применив указанную в задании структуру данных. Результат работы программы вывести на экран и сохранить в отдельном txt-файле."
      ],
      "metadata": {
        "id": "2cjBuRmJDnaC"
      }
    },
    {
      "cell_type": "code",
      "source": [
        "import random"
      ],
      "metadata": {
        "id": "pIq0A9DLEJav"
      },
      "execution_count": null,
      "outputs": []
    },
    {
      "cell_type": "code",
      "execution_count": null,
      "metadata": {
        "id": "LUBzSF6wDk9e"
      },
      "outputs": [],
      "source": [
        "class LinkedNode:\n",
        "    def __init__(self, value=None):\n",
        "        self.value = value\n",
        "        self.right = None\n",
        "        self.left = None"
      ]
    },
    {
      "cell_type": "code",
      "source": [
        "class Stack:\n",
        "    def __init__(self):\n",
        "        self.head = LinkedNode()\n",
        "        self.size = 0\n",
        "\n",
        "    def is_empty(self):\n",
        "        return self.size == 0\n",
        "\n",
        "    def push(self, value):\n",
        "        if self.size > 0:\n",
        "            node = LinkedNode(value)\n",
        "            node.right = self.head\n",
        "            self.head = node\n",
        "        else:\n",
        "            self.head.value = value\n",
        "        self.size += 1\n",
        "      \n",
        "    def pop(self):\n",
        "        if self.is_empty():\n",
        "            return print(\"\\nСтек пустой\")\n",
        "        remove = self.head\n",
        "        if self.size > 1:\n",
        "            self.head = remove.right\n",
        "        self.size -= 1\n",
        "        return remove.value\n",
        "    \n",
        "    def peek(self):\n",
        "        if self.is_empty():\n",
        "            return print(\"\\nСтек пустой\")\n",
        "        return self.head.value\n",
        "    \n",
        "    def __len__(self):\n",
        "        return self.size\n",
        "\n",
        "    def reverse(self):\n",
        "        current = self.head\n",
        "        prev = None\n",
        "        next = None\n",
        " \n",
        "        while current is not None:\n",
        "            next = current.right\n",
        "            current.right = prev\n",
        "            prev = current\n",
        "            current = next\n",
        "\n",
        "        self.head = prev"
      ],
      "metadata": {
        "id": "Fo0B-wFvELyy"
      },
      "execution_count": null,
      "outputs": []
    },
    {
      "cell_type": "code",
      "source": [
        "class Deque:\n",
        "    def __init__(self):\n",
        "        self.head = LinkedNode()\n",
        "        self.tail = self.head\n",
        "        self.size = 0\n",
        "    \n",
        "    def is_empty(self):\n",
        "        return self.size == 0\n",
        "\n",
        "    def push_left(self, value):\n",
        "        if self.size > 0:\n",
        "            node = LinkedNode(value)\n",
        "            node.right = self.tail\n",
        "            self.tail.left = node\n",
        "            self.tail = node\n",
        "        else:\n",
        "            self.tail.value = value\n",
        "        self.size += 1\n",
        "\n",
        "    def push(self, value):\n",
        "        if self.size > 0:\n",
        "            node = LinkedNode(value)\n",
        "            node.left = self.head\n",
        "            self.head.right = node\n",
        "            self.head = node\n",
        "        else:\n",
        "            self.head.value = value\n",
        "        self.size += 1\n",
        "    \n",
        "    def pop_left(self):\n",
        "        if self.is_empty():\n",
        "            return print(\"\\nДек пустой\")\n",
        "        remove = self.tail\n",
        "        if self.size > 1:\n",
        "            self.tail = remove.right\n",
        "        self.size -= 1\n",
        "        return remove.value\n",
        "    \n",
        "    def pop(self):\n",
        "        if self.is_empty():\n",
        "            return print(\"\\nДек пустой\")\n",
        "        remove = self.head\n",
        "        if self.size > 1:\n",
        "            self.head = remove.left\n",
        "        self.size -= 1\n",
        "        return remove.value\n",
        "    \n",
        "    def peek(self):\n",
        "        if self.is_empty():\n",
        "            return print(\"\\nДек пустой\")\n",
        "        return self.head.value\n",
        "    \n",
        "    def peek_left(self):\n",
        "        if self.is_empty():\n",
        "            return print(\"\\nДек пустой\")\n",
        "        return self.tail.value\n",
        "\n",
        "    def __len__(self):\n",
        "        return self.size"
      ],
      "metadata": {
        "id": "iY604yhEENpW"
      },
      "execution_count": null,
      "outputs": []
    },
    {
      "cell_type": "markdown",
      "source": [
        "### Задание №1\n",
        "Отсортировать строки файла, содержащие названия книг, в алфавитном порядке с использованием двух деков."
      ],
      "metadata": {
        "id": "mLQ5Lzw_ESMf"
      }
    },
    {
      "cell_type": "code",
      "source": [
        "print(\"Задание 1:\")\n",
        "with open('books.txt',encoding=\"utf-8\") as books:\n",
        "    d1 = Deque()\n",
        "    d2 = Deque()\n",
        "    for book in books:\n",
        "        d1.push(book)\n",
        "    while not d1.is_empty():\n",
        "        x = d1.pop()\n",
        "        while not d2.is_empty() and d2.peek() < x:\n",
        "            d1.push_left(d2.pop())\n",
        "        d2.push(x)\n",
        "    while not d2.is_empty():\n",
        "        print(d2.pop())"
      ],
      "metadata": {
        "id": "2YfFiPyGEVXC"
      },
      "execution_count": null,
      "outputs": []
    },
    {
      "cell_type": "markdown",
      "source": [
        "### Задание №2\n",
        "Дек содержит последовательность символов для шифровки сообщений. Дан текстовый файл, содержащий зашифрованное сообщение. Пользуясь деком, расшифровать текст. Известно, что при шифровке каждый символ сообщения заменялся следующим за ним в деке по часовой стрелке через один."
      ],
      "metadata": {
        "id": "rZaRXo_eE0DA"
      }
    },
    {
      "cell_type": "code",
      "source": [
        "print(\"Задание 2:\")\n",
        "alphabet = list('абвгдеёжзийклмнопрстуфхцчшщъыьэюя')\n",
        "random.shuffle(alphabet)\n",
        "alphabet = ''.join(alphabet)\n",
        "print(alphabet)\n",
        "keyRing = Deque()\n",
        "for letter in alphabet:\n",
        "    keyRing.push(letter)"
      ],
      "metadata": {
        "id": "cpIdT50UE76A"
      },
      "execution_count": null,
      "outputs": []
    },
    {
      "cell_type": "code",
      "source": [
        "def encode(c):\n",
        "    for i in range(len(keyRing)):\n",
        "        x = keyRing.pop_left()\n",
        "        if x == c:\n",
        "            keyRing.push(x)\n",
        "            val = keyRing.pop_left()\n",
        "            keyRing.push(val)\n",
        "            return val\n",
        "        keyRing.push(x)"
      ],
      "metadata": {
        "id": "CndSmh1ZFJfK"
      },
      "execution_count": null,
      "outputs": []
    },
    {
      "cell_type": "code",
      "source": [
        "def decode(c):\n",
        "    for i in range(len(keyRing)):\n",
        "        x = keyRing.pop()\n",
        "        if x == c:\n",
        "            keyRing.push_left(x)\n",
        "            val = keyRing.pop()\n",
        "            keyRing.push_left(val)\n",
        "            return val\n",
        "        keyRing.push_left(x)"
      ],
      "metadata": {
        "id": "QJ0aubfgFNeC"
      },
      "execution_count": null,
      "outputs": []
    },
    {
      "cell_type": "code",
      "source": [
        "text = 'семеро всегда с тобой'.lower()\n",
        "\n",
        "encoded = ''\n",
        "for letter in text:\n",
        "    if encoded_letter := encode(letter):\n",
        "        encoded += encoded_letter\n",
        "    else:\n",
        "        encoded += letter\n",
        "\n",
        "print(encoded)\n",
        "\n",
        "decoded = ''\n",
        "for letter in encoded:\n",
        "    if decoded_letter := decode(letter):\n",
        "        decoded += decoded_letter\n",
        "    else:\n",
        "        decoded += letter\n",
        "print(decoded)"
      ],
      "metadata": {
        "id": "DVw-CjMAFRg-"
      },
      "execution_count": null,
      "outputs": []
    },
    {
      "cell_type": "markdown",
      "source": [
        "### Задание №3\n",
        "Даны три стержня и n дисков различного размера. Диски можно надевать на стержни, образуя из них башни. Перенести n дисков со стержня А на стержень С, сохранив их первоначальный порядок. При переносе дисков необходимо соблюдать следующие правила:\n",
        "\n",
        "на каждом шаге со стержня на стержень переносить только один диск;\n",
        "диск нельзя помещать на диск меньшего размера;\n",
        "для промежуточного хранения можно использовать стержень В. Реализовать алгоритм, используя три стека вместо стержней А, В, С. Информация о дисках хранится в исходном файле."
      ],
      "metadata": {
        "id": "oSH6UlZdFDrC"
      }
    },
    {
      "cell_type": "code",
      "source": [
        "print(\"Задание 3:\")\n",
        "A = Stack()\n",
        "B = Stack()\n",
        "C = Stack()\n",
        "\n",
        "disks = 6\n",
        "\n",
        "for i in range(disks, 0, -1):\n",
        "    A.push(i)\n",
        "\n",
        "def move(a, b):\n",
        "    if len(a) == 0 and len(b) > 0:\n",
        "        a.push(b.pop())\n",
        "    elif len(a) > 0 and len(b) == 0:\n",
        "        b.push(a.pop())\n",
        "    elif a.peek() > b.peek():\n",
        "        a.push(b.pop())\n",
        "    else:\n",
        "        b.push(a.pop())\n",
        "\n",
        "if disks % 2 == 0:\n",
        "    while len(C) != disks:\n",
        "        move(A, B)\n",
        "        move(A, C)\n",
        "        move(B, C)\n",
        "else:\n",
        "    while len(C) != disks:\n",
        "        move(A, C)\n",
        "        move(A, B)\n",
        "        move(B, C)\n",
        "\n",
        "while not C.is_empty():\n",
        "    print(C.pop())"
      ],
      "metadata": {
        "id": "pYfx5BwGFcT8"
      },
      "execution_count": null,
      "outputs": []
    },
    {
      "cell_type": "markdown",
      "source": [
        "### Задание №4\n",
        "Дан текстовый файл с программой на алгоритмическом языке. За один просмотр файла проверить баланс круглых скобок в тексте, используя стек."
      ],
      "metadata": {
        "id": "g31movqYFf1g"
      }
    },
    {
      "cell_type": "code",
      "source": [
        "print(\"Задание 4:\")\n",
        "def check_brackets(string):\n",
        "    bracket_stack = Stack()\n",
        "    for i in string:\n",
        "        if i == '(':\n",
        "            bracket_stack.push(i)\n",
        "        elif i == ')':\n",
        "            if bracket_stack.is_empty():\n",
        "                return False\n",
        "            bracket_stack.pop()\n",
        "    return bracket_stack.is_empty()\n",
        "with open('452.txt', encoding=\"utf-8\") as bracket:\n",
        "    string = bracket.read()\n",
        "print(check_brackets(string))"
      ],
      "metadata": {
        "id": "oW1iWX9wFjHi"
      },
      "execution_count": null,
      "outputs": []
    },
    {
      "cell_type": "markdown",
      "source": [
        "### Задание №5\n",
        "Дан текстовый файл с программой на алгоритмическом языке. За один просмотр файла проверить баланс квадратных скобок в тексте, используя дек."
      ],
      "metadata": {
        "id": "u6HOHGq6FnzJ"
      }
    },
    {
      "cell_type": "code",
      "source": [
        "print(\"Задание 5:\")\n",
        "def check_square_brackets(string):\n",
        "    bracket_deque = Deque()\n",
        "    for i in string:\n",
        "        if i == '[':\n",
        "            bracket_deque.push(i)\n",
        "        elif i == ']':\n",
        "            if bracket_deque.is_empty():\n",
        "                return False\n",
        "            bracket_deque.pop()\n",
        "    return bracket_deque.is_empty()\n",
        "with open('452.txt', encoding=\"utf8\") as bracket:\n",
        "    string = bracket.read()\n",
        "print(check_square_brackets(string))"
      ],
      "metadata": {
        "id": "k6UYnndwFvcJ"
      },
      "execution_count": null,
      "outputs": []
    },
    {
      "cell_type": "markdown",
      "source": [
        "### Задание №6\n",
        "Дан файл из символов. Используя стек, за один просмотр файла напечатать сначала все цифры, затем все буквы, и, наконец, все остальные символы, сохраняя исходный порядок в каждой группе символов."
      ],
      "metadata": {
        "id": "Pn4QUdPyGO8Y"
      }
    },
    {
      "cell_type": "code",
      "source": [
        "print(\"Задание 6:\")\n",
        "with open('6.txt', encoding=\"utf-8\") as text:\n",
        "    textt = text.read()\n",
        "\n",
        "letters = Stack()\n",
        "digits = Stack()\n",
        "others = Stack()\n",
        "\n",
        "for c in textt:\n",
        "    if c.isalpha():\n",
        "        letters.push(c)\n",
        "    elif c.isdigit():\n",
        "        digits.push(c)\n",
        "    else:\n",
        "        others.push(c)\n",
        "\n",
        "new_text = ''\n",
        "\n",
        "letters.reverse()\n",
        "digits.reverse()\n",
        "others.reverse()\n",
        "\n",
        "\n",
        "while not digits.is_empty():\n",
        "    new_text += digits.pop()\n",
        "\n",
        "while not letters.is_empty():\n",
        "    new_text += letters.pop()\n",
        "\n",
        "while not others.is_empty():\n",
        "    new_text += others.pop()\n",
        "\n",
        "print(new_text)"
      ],
      "metadata": {
        "id": "KujTIrVTGSQ3"
      },
      "execution_count": null,
      "outputs": []
    },
    {
      "cell_type": "markdown",
      "source": [
        "### Задание №7\n",
        "Дан файл из целых чисел. Используя дек, за один просмотр файла напечатать сначала все отрицательные числа, затем все положительные числа, сохраняя исходный порядок в каждой группе."
      ],
      "metadata": {
        "id": "BOm2OtanGVXC"
      }
    },
    {
      "cell_type": "code",
      "source": [
        "print(\"Задание 7:\")\n",
        "with open('7.txt', encoding=\"utf-8\") as bracket:\n",
        "    string = bracket.read().split(\" \")\n",
        "numbers = []\n",
        "for num in string:\n",
        "    numbers.append(int(num))\n",
        "deque = Deque()\n",
        "for n in numbers:\n",
        "    if n < 0:\n",
        "        deque.push_left(n)\n",
        "    else:\n",
        "        deque.push(n)\n",
        "\n",
        "while not deque.is_empty():\n",
        "    x = deque.pop_left()\n",
        "    if x < 0:\n",
        "        deque.push(x)\n",
        "    else:\n",
        "        deque.push_left(x)\n",
        "        break\n",
        "\n",
        "while not deque.is_empty():\n",
        "    x = deque.pop()\n",
        "    if x < 0:\n",
        "        print(x)\n",
        "    else:\n",
        "        deque.push(x)\n",
        "        break\n",
        "\n",
        "while not deque.is_empty():\n",
        "    print(deque.pop_left())"
      ],
      "metadata": {
        "id": "1vDNoaGuGbR5"
      },
      "execution_count": null,
      "outputs": []
    },
    {
      "cell_type": "markdown",
      "source": [
        "### Задание №8\n",
        "Дан текстовый файл. Используя стек, сформировать новый текстовый файл, содержащий строки исходного файла, записанные в обратном порядке: первая строка становится последней, вторая – предпоследней и т.д."
      ],
      "metadata": {
        "id": "PAXFOhBWGYsj"
      }
    },
    {
      "cell_type": "code",
      "source": [
        "print(\"Задание 8:\")\n",
        "with open('books.txt', encoding='utf-8') as books:\n",
        "    stack = Stack()\n",
        "    for book in books:\n",
        "        book = book.strip()\n",
        "        print(book)\n",
        "        stack.push(book)\n",
        "    print()\n",
        "    while not stack.is_empty():\n",
        "        print(stack.pop())"
      ],
      "metadata": {
        "id": "0ihMQANjGfDB"
      },
      "execution_count": null,
      "outputs": []
    }
  ]
}