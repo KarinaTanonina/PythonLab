{
  "nbformat": 4,
  "nbformat_minor": 0,
  "metadata": {
    "colab": {
      "name": "Untitled2.ipynb",
      "provenance": [],
      "collapsed_sections": []
    },
    "kernelspec": {
      "name": "python3",
      "display_name": "Python 3"
    },
    "language_info": {
      "name": "python"
    }
  },
  "cells": [
    {
      "cell_type": "markdown",
      "source": [
        "# Лабораторная работа №5\n",
        "## Выполнила студентка группы БСТ2003 Танонина Карина Вадимовна\n",
        "\n",
        "Задание:\n",
        "Реализовать генерацию заданного типа фрактала с применением рекурсивных функций.\n",
        "\n",
        "Добавить возможность задания глубины фрактала.\n",
        "\n",
        "Оценить глубину рекурсии.\n",
        "\n",
        "Построить таблицу зависимости времени построения от глубины фрактала.\n",
        "\n",
        "Вариант 13: Кривая Коха"
      ],
      "metadata": {
        "id": "jEtV1j0sHlGc"
      }
    },
    {
      "cell_type": "code",
      "execution_count": null,
      "metadata": {
        "id": "-q7itvvzHXhd"
      },
      "outputs": [],
      "source": [
        "import turtle\n",
        "import time\n",
        "\n",
        "t = turtle.Turtle()\n",
        "t.speed(100)\n",
        "\n",
        "def koch(ln, n):\n",
        "    if n == 0:\n",
        "        t.fd(ln)\n",
        "    else:\n",
        "        koch(ln / 3, n - 1)\n",
        "        t.left(60)\n",
        "        koch(ln / 3, n - 1)\n",
        "        t.right(120)\n",
        "        koch(ln / 3, n - 1)\n",
        "        t.left(60)\n",
        "        koch(ln / 3, n - 1)\n",
        "\n",
        "print(\"Введите длину сегмента:\")\n",
        "ln = int(input())\n",
        "print(\"Введите глубину рекурсии:\")\n",
        "n = int(input())\n",
        "start = time.time()\n",
        "koch(ln, n)\n",
        "print(\"Время : \", (time.time() - start))\n",
        "\n",
        "turtle.done()"
      ]
    }
  ]
}