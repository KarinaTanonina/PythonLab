{
  "metadata": {
    "language_info": {
      "codemirror_mode": {
        "name": "python",
        "version": 3
      },
      "file_extension": ".py",
      "mimetype": "text/x-python",
      "name": "python",
      "nbconvert_exporter": "python",
      "pygments_lexer": "ipython3",
      "version": "3.8"
    },
    "kernelspec": {
      "name": "python",
      "display_name": "Pyolite",
      "language": "python"
    }
  },
  "nbformat_minor": 4,
  "nbformat": 4,
  "cells": [
    {
      "cell_type": "markdown",
      "source": "# Лабораторная работы №2\n## Выполнила студентка группы БСТ2003 Танонина Карина Вадимовна\n### Задание №1",
      "metadata": {}
    },
    {
      "cell_type": "code",
      "source": "from random import randint\nimport time\n\n#создание исходного массива\nn = int(input(\"Введите количество элементов массива: \"))\nif n == \"\":\n    n = 50\nelse:\n    n = int(n)\nmin_limit = input(\"Введите min: \")\nmax_limit = input(\"Введите max: \")\nif min_limit == \"\" and max_limit == \"\":\n    min_limit = -250\n    max_limit = 1013\nelse:\n    min_limit = int(min_limit)\n    max_limit = int(max_limit)\narray = [randint(int(min_limit), int(max_limit)) for i in range(int(n))]\nprint(\"Исходный массив:\")\nprint(array)",
      "metadata": {},
      "execution_count": null,
      "outputs": []
    },
    {
      "cell_type": "markdown",
      "source": "Бинарный поиск",
      "metadata": {}
    },
    {
      "cell_type": "code",
      "source": "def binary(array, item):\n    left = 0\n    center = len(array) // 2\n    right = len(array) - 1\n    while array[center] != item and left <= right:\n        if item > array[center]:\n            left = center + 1\n        else:\n            right = center - 1\n        center = (left + right) // 2\n    if left > right:\n        return -1\n    else:\n        return center",
      "metadata": {},
      "execution_count": null,
      "outputs": []
    },
    {
      "cell_type": "markdown",
      "source": "Интерполяционный поиск",
      "metadata": {}
    },
    {
      "cell_type": "code",
      "source": "def interpolation(array, item):\n    left = 0\n    right = (len(array) - 1)\n    while left <= right and item >= array[left] and item <= array[right]:\n        index = left + int(((float(right - left) / (array[right] - array[left])) * (item - array[left])))\n        if array[index] == item:\n            return index\n        if array[index] < item:\n            left = index + 1;\n        else:\n            right = index - 1;\n    return -1",
      "metadata": {},
      "execution_count": null,
      "outputs": []
    },
    {
      "cell_type": "markdown",
      "source": "Фибоначчиев поиск",
      "metadata": {}
    },
    {
      "cell_type": "code",
      "source": "def FibonacciSearch(array, item):\n    fib2 = 0\n    fib1 = 1\n    fibM = fib1 + fib2\n    while (fibM < len(array)):\n        fib2 = fib1\n        fib1 = fibM\n        fibM = fib1 + fib2\n    index = -1;\n    while (fibM > 1):\n        i = min(index + fib2, (len(array)-1))\n        if (array[i] < item):\n            fibM = fib1\n            fib1 = fib2\n            fib2 = fibM - fib1\n            index = i\n        elif (array[i] > item):\n            fibM = fib2\n            fib1 = fib1 - fib2\n            fib2 = fibM - fib1\n        else:\n            return i\n    if(fib1 and index < (len(array)-1) and array[index+1] == item):\n        return index+1;\n    return -1",
      "metadata": {},
      "execution_count": null,
      "outputs": []
    },
    {
      "cell_type": "markdown",
      "source": "Бинарное дерево",
      "metadata": {}
    },
    {
      "cell_type": "code",
      "source": "class Node:\n    def __init__(self, data):\n        self.left = None\n        self.right = None\n        self.data = data\n\n    def insert(self, data):\n        if self.data:\n            if data < self.data:\n                if self.left is None:\n                    self.left = Node(data)\n                else:\n                    self.left.insert(data)\n            elif data > self.data:\n                if self.right is None:\n                    self.right = Node(data)\n                else:\n                    self.right.insert(data)\n        else:\n            self.data = data\n\n    def findval(self, lkpval):\n        if lkpval < self.data:\n            if self.left is None:\n                print(lkpval, \"Элемент не найден\")\n                return False\n            return self.left.findval(lkpval)\n        elif lkpval > self.data:\n            if self.right is None:\n                print(lkpval, \"Элемент не найден\")\n                return False\n            return self.right.findval(lkpval)\n        else:\n            print(self.data, \"Элемент найден\")\n            return True\n\n    def PrintTree(self):\n        if self.left:\n            self.left.PrintTree()\n        print(self.data),\n        if self.right:\n            self.right.PrintTree()\n\ndef make_a_tree(arr):\n    root = Node(arr[0])\n    for i in arr[1::]:\n        root.insert(i)\n    return root",
      "metadata": {
        "trusted": true
      },
      "execution_count": 1,
      "outputs": []
    },
    {
      "cell_type": "code",
      "source": "#вставка элемента в массив\ndef Insert(array):\n    numb = int(input(\"Введите число для вставки: \"))\n    ind = int(input(\"Введите индекс вставки: \"))\n    array.insert(ind, numb)\n    print(array)\n\n#удаление элемента из массива\ndef Delete(array):\n    ind = int(input(\"Введите индекс элемента для удаления: \"))\n    del array[ind]\n    print(array)\n\narray.sort()\nprint(\"Отсортированный массив: \")\nprint(array)\nprint()\n\n#бинарный поиск\nprint(\"Бинарный поиск\")\nprint(\"Введите элемент, который хотите найти: \")\nfind = int(input())\nstart = time.time()\nsel = binary(array, find)\nprint(\"Время бинарного поиска: \", (time.time() - start)*1000000)\nif sel == -1:\n    print(\"Элемент в массиве не найден\")\nelse:\n    print(\"Индекс элемента: \", sel)\nInsert(array)\nDelete(array)\nprint()\n\n#интерполяционный поиск\nprint(\"Интерполяционный поиск\")\nprint(\"Введите элемент, который хотите найти: \")\nfind = int(input())\nstart = time.time()\nsel = interpolation(array, find)\nprint(\"Время интерполяционного поиска: \", (time.time() - start)*1000000)\nif sel == -1:\n    print(\"Элемент в массиве не найден\")\nelse:\n    print(\"Индекс элемента: \", sel)\nInsert(array)\nDelete(array)\nprint()\n\n#Бинарное деререво\nprint(\"Бинарное деререво\")\nroot = make_a_tree(array)\nnum = int(input(\"Введите элемент, который хотите найти: \"))\nstart = time.time()\nresult = root.findval(num)\nprint(\"Время бинарного дерева: \", (time.time() - start)*1000000)\nroot.insert(num)\nroot.PrintTree()\nnum = int(input(\"Введите элемент, который хотите удалить: \"))\narray.remove(num)\nroot = make_a_tree(array)\nroot.PrintTree()",
      "metadata": {
        "trusted": true
      },
      "execution_count": 2,
      "outputs": [
        {
          "ename": "<class 'NameError'>",
          "evalue": "name 'array' is not defined",
          "traceback": [
            "\u001b[0;31m---------------------------------------------------------------------------\u001b[0m",
            "\u001b[0;31mNameError\u001b[0m                                 Traceback (most recent call last)",
            "Input \u001b[0;32mIn [2]\u001b[0m, in \u001b[0;36m<cell line: 14>\u001b[0;34m()\u001b[0m\n\u001b[1;32m     11\u001b[0m     \u001b[38;5;28;01mdel\u001b[39;00m array[ind]\n\u001b[1;32m     12\u001b[0m     \u001b[38;5;28mprint\u001b[39m(array)\n\u001b[0;32m---> 14\u001b[0m \u001b[43marray\u001b[49m\u001b[38;5;241m.\u001b[39msort()\n\u001b[1;32m     15\u001b[0m \u001b[38;5;28mprint\u001b[39m(\u001b[38;5;124m\"\u001b[39m\u001b[38;5;124mОтсортированный массив: \u001b[39m\u001b[38;5;124m\"\u001b[39m)\n\u001b[1;32m     16\u001b[0m \u001b[38;5;28mprint\u001b[39m(array)\n",
            "\u001b[0;31mNameError\u001b[0m: name 'array' is not defined"
          ],
          "output_type": "error"
        }
      ]
    }
  ]
}